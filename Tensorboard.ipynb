{
 "cells": [
  {
   "cell_type": "markdown",
   "metadata": {},
   "source": [
    "## Tensorboard\n",
    "\n",
    "* Let's explore the built-in data visualization capabilities that come with tensorboard\n",
    "\n",
    "\n",
    "* `References :`\n",
    "\n",
    "     * [tensorboard](https://www.tensorflow.org/tensorboard/tensorboard_in_notebooks)\n",
    "        \n",
    "     * [official_tutorial](https://www.tensorflow.org/tensorboard/get_started)"
   ]
  },
  {
   "cell_type": "markdown",
   "metadata": {},
   "source": [
    "### Data"
   ]
  },
  {
   "cell_type": "code",
   "execution_count": 1,
   "metadata": {},
   "outputs": [],
   "source": [
    "import numpy as np\n",
    "import pandas as pd"
   ]
  },
  {
   "cell_type": "code",
   "execution_count": 2,
   "metadata": {},
   "outputs": [],
   "source": [
    "df = pd.read_csv('cancer_classification.csv')"
   ]
  },
  {
   "cell_type": "markdown",
   "metadata": {},
   "source": [
    "### Train/Test Split"
   ]
  },
  {
   "cell_type": "code",
   "execution_count": 3,
   "metadata": {},
   "outputs": [],
   "source": [
    "X = df.drop('benign_0__mal_1', axis=1).values\n",
    "\n",
    "y = df['benign_0__mal_1'].values"
   ]
  },
  {
   "cell_type": "code",
   "execution_count": 4,
   "metadata": {},
   "outputs": [],
   "source": [
    "from sklearn.model_selection import train_test_split"
   ]
  },
  {
   "cell_type": "code",
   "execution_count": 5,
   "metadata": {},
   "outputs": [],
   "source": [
    "X_train, X_test, y_train, y_test = train_test_split(X, y, test_size=0.25, random_state=101)"
   ]
  },
  {
   "cell_type": "markdown",
   "metadata": {},
   "source": [
    "### Scaling the data"
   ]
  },
  {
   "cell_type": "code",
   "execution_count": 6,
   "metadata": {},
   "outputs": [],
   "source": [
    "from sklearn.preprocessing import MinMaxScaler"
   ]
  },
  {
   "cell_type": "code",
   "execution_count": 7,
   "metadata": {},
   "outputs": [],
   "source": [
    "scaler = MinMaxScaler()"
   ]
  },
  {
   "cell_type": "code",
   "execution_count": 8,
   "metadata": {},
   "outputs": [],
   "source": [
    "X_train = scaler.fit_transform(X_train)\n",
    "\n",
    "X_test = scaler.transform(X_test)"
   ]
  },
  {
   "cell_type": "markdown",
   "metadata": {},
   "source": [
    "### Create a Model"
   ]
  },
  {
   "cell_type": "code",
   "execution_count": 9,
   "metadata": {},
   "outputs": [],
   "source": [
    "import tensorflow as tf\n",
    "from tensorflow.keras.models import Sequential\n",
    "from tensorflow.keras.layers import Dense, Activation, Dropout"
   ]
  },
  {
   "cell_type": "code",
   "execution_count": 10,
   "metadata": {},
   "outputs": [],
   "source": [
    "from tensorflow.keras.callbacks import EarlyStopping, TensorBoard"
   ]
  },
  {
   "cell_type": "code",
   "execution_count": 11,
   "metadata": {},
   "outputs": [],
   "source": [
    "early_stop = EarlyStopping(monitor='val_loss', mode='min', verbose=1, patience=25)"
   ]
  },
  {
   "cell_type": "code",
   "execution_count": 12,
   "metadata": {},
   "outputs": [
    {
     "data": {
      "text/plain": [
       "'C:\\\\Users\\\\tvnsk\\\\Downloads\\\\FINAL-TF2-FILES\\\\My_Codes\\\\05-Tensorboard'"
      ]
     },
     "execution_count": 12,
     "metadata": {},
     "output_type": "execute_result"
    }
   ],
   "source": [
    "pwd"
   ]
  },
  {
   "cell_type": "markdown",
   "metadata": {},
   "source": [
    "### Creating the Tensorboard Callback\n",
    "\n",
    "* Tensorboard is a visualization tool provided with TensorFlow\n",
    "\n",
    "* This callback records/logs events for Tensorboard, including :\n",
    "\n",
    "     #### `Metrics Summary Plots`\n",
    "     \n",
    "     #### `Training graph visualization`\n",
    "     \n",
    "     #### `Activation histograms`\n",
    "     \n",
    "     #### `Sampled profiling`\n",
    "     \n",
    "-----------\n",
    "\n",
    "* If you have installed TensorFlow with pip, you should be able to launch TensorBoard from the command line:\n",
    "\n",
    "```sh\n",
    "tensorboard --logdir=path_to_your_logs\n",
    "```\n",
    "\n",
    "* More information about Tensorboard [here](https://www.tensorflow.org/tensorboard/)\n",
    "\n",
    "-----------"
   ]
  },
  {
   "cell_type": "markdown",
   "metadata": {},
   "source": [
    "##### There are various arguments to pass when creating a Tensorboard a callback variable to indicate whether or not  to record something\n",
    "\n",
    "* Arguments :\n",
    "\n",
    "   #### `log_dir` : the path of the directory where to save the log files \n",
    "   \n",
    "   #### ` The following args are just whether or not to keep recording something`\n",
    "   \n",
    "   -------\n",
    "   \n",
    "   #### `histogram_freq` : frequency (in epochs) at which to compute activation and weight histograms for the layers of the model. If                                                 set to 0, histograms won't be computed. If set to 1, basically after every epoch of training we will go ahead                                                 and calculate all the weights for our layers and then we will create a histogram of it and it does the same                                                   thing for the next epoch. So we will able to see these histograms are essentially stacked on top of each                                                     other and we will get a nice 3-D visualization that shows how weights are changing throughout the epochs                                                 of training. Validation data must be specified for histogram visualizations\n",
    "   \n",
    "   #### `write_graph` :  whether to visualize the graph in Tensorboard. The log file or record file can become quite large when                                                         write_graph is set to True\n",
    "   \n",
    "   #### `write_images` : whether to write model weights to visualize as image in Tensorboard\n",
    "   \n",
    "   #### `update_freq` : 'batch' or 'epoch' or ineteger. When using 'batch', writes losses and metrics to Tensorboard after each batch                                              and does the same thing with epoch as well. When using integer = 1000, the callback will write the metrics and                                          losses to Tensorboard every 1000 samples. Recommended to use update_freq per epoch.'Note that writing too                                          frequently to Tensorboard can slow down tour training\n",
    "   \n",
    "   #### `Profile_batch` : Profile the batch to sample compute characteristics. Default it will profile the second batch. To disable                                                        profiling set Profile_batch=0\n",
    "   \n",
    "   #### `embeddings_freq` : frequency in epochs at which embedding layers will be visualized. If set to 0, embeddings won't be                                                             visualized"
   ]
  },
  {
   "cell_type": "markdown",
   "metadata": {},
   "source": [
    "--------------------------------------------------------------------------------------------------------------------------\n",
    "\n",
    "##### If we want to have different directories for each time we run this model  :"
   ]
  },
  {
   "cell_type": "code",
   "execution_count": 13,
   "metadata": {},
   "outputs": [],
   "source": [
    "from datetime import datetime"
   ]
  },
  {
   "cell_type": "code",
   "execution_count": 14,
   "metadata": {},
   "outputs": [
    {
     "data": {
      "text/plain": [
       "'2020-02-26-1547'"
      ]
     },
     "execution_count": 14,
     "metadata": {},
     "output_type": "execute_result"
    }
   ],
   "source": [
    "datetime.now().strftime(\"%Y-%m-%d-%H%M\")"
   ]
  },
  {
   "cell_type": "markdown",
   "metadata": {},
   "source": [
    "##### The above result is the name of folder and we will have unique log for each minute we run the model and in that way we can edit the no.of neurons in a layer and visualize each of those models with Tensorboard"
   ]
  },
  {
   "cell_type": "code",
   "execution_count": 15,
   "metadata": {},
   "outputs": [],
   "source": [
    "# WINDOWS: Use \"logs\\\\fit\"\n",
    "# MACOS/LINUX: Use \"logs\\fit\"\n",
    "\n",
    "log_directory = 'logs\\\\fit'\n",
    "\n",
    "# OPTIONAL: ADD A TIMESTAMP FOR UNIQUE FOLDER\n",
    "# timestamp = datetime.now().strftime(\"%Y-%m-%d--%H%M\")\n",
    "# log_directory = log_directory + '\\\\' + timestamp\n",
    "\n",
    "\n",
    "board = TensorBoard(log_dir=log_directory, \n",
    "                    histogram_freq=1, \n",
    "                    write_graph=True, \n",
    "                    write_images=True, \n",
    "                    update_freq='epoch', \n",
    "                    profile_batch=2,\n",
    "                    embeddings_freq=1)"
   ]
  },
  {
   "cell_type": "markdown",
   "metadata": {},
   "source": [
    "#### Create the Model layers :"
   ]
  },
  {
   "cell_type": "code",
   "execution_count": 16,
   "metadata": {},
   "outputs": [],
   "source": [
    "model = Sequential()\n",
    "model.add(Dense(units=30,activation='relu'))\n",
    "model.add(Dropout(0.5))\n",
    "model.add(Dense(units=15,activation='relu'))\n",
    "model.add(Dropout(0.5))\n",
    "model.add(Dense(units=1,activation='sigmoid'))\n",
    "model.compile(loss='binary_crossentropy', optimizer='adam')"
   ]
  },
  {
   "cell_type": "markdown",
   "metadata": {},
   "source": [
    "### Train the Model"
   ]
  },
  {
   "cell_type": "markdown",
   "metadata": {},
   "source": [
    "##### Do not fit the model more than once under the same callback log_dir"
   ]
  },
  {
   "cell_type": "code",
   "execution_count": 17,
   "metadata": {},
   "outputs": [
    {
     "name": "stdout",
     "output_type": "stream",
     "text": [
      "Train on 426 samples, validate on 143 samples\n",
      "Epoch 1/600\n",
      "426/426 [==============================] - 2s 4ms/sample - loss: 0.7184 - val_loss: 0.6970\n",
      "Epoch 2/600\n",
      "426/426 [==============================] - 0s 881us/sample - loss: 0.6977 - val_loss: 0.6805\n",
      "Epoch 3/600\n",
      "426/426 [==============================] - 0s 836us/sample - loss: 0.6858 - val_loss: 0.6672\n",
      "Epoch 4/600\n",
      "426/426 [==============================] - 0s 812us/sample - loss: 0.6651 - val_loss: 0.6553\n",
      "Epoch 5/600\n",
      "426/426 [==============================] - 0s 821us/sample - loss: 0.6497 - val_loss: 0.6426\n",
      "Epoch 6/600\n",
      "426/426 [==============================] - 0s 980us/sample - loss: 0.6526 - val_loss: 0.6317\n",
      "Epoch 7/600\n",
      "426/426 [==============================] - 0s 744us/sample - loss: 0.6314 - val_loss: 0.6191\n",
      "Epoch 8/600\n",
      "426/426 [==============================] - 0s 755us/sample - loss: 0.6305 - val_loss: 0.6047\n",
      "Epoch 9/600\n",
      "426/426 [==============================] - 0s 955us/sample - loss: 0.6247 - val_loss: 0.5903\n",
      "Epoch 10/600\n",
      "426/426 [==============================] - 0s 1ms/sample - loss: 0.6024 - val_loss: 0.5762\n",
      "Epoch 11/600\n",
      "426/426 [==============================] - 0s 731us/sample - loss: 0.5842 - val_loss: 0.5599\n",
      "Epoch 12/600\n",
      "426/426 [==============================] - 0s 794us/sample - loss: 0.5876 - val_loss: 0.5422\n",
      "Epoch 13/600\n",
      "426/426 [==============================] - 1s 2ms/sample - loss: 0.5595 - val_loss: 0.5242\n",
      "Epoch 14/600\n",
      "426/426 [==============================] - 0s 1ms/sample - loss: 0.5495 - val_loss: 0.5010\n",
      "Epoch 15/600\n",
      "426/426 [==============================] - 0s 777us/sample - loss: 0.5459 - val_loss: 0.4757\n",
      "Epoch 16/600\n",
      "426/426 [==============================] - 1s 2ms/sample - loss: 0.5230 - val_loss: 0.4486\n",
      "Epoch 17/600\n",
      "426/426 [==============================] - 0s 827us/sample - loss: 0.4930 - val_loss: 0.4197\n",
      "Epoch 18/600\n",
      "426/426 [==============================] - 0s 888us/sample - loss: 0.5105 - val_loss: 0.3995\n",
      "Epoch 19/600\n",
      "426/426 [==============================] - 0s 839us/sample - loss: 0.4470 - val_loss: 0.3722\n",
      "Epoch 20/600\n",
      "426/426 [==============================] - 0s 848us/sample - loss: 0.4562 - val_loss: 0.3526\n",
      "Epoch 21/600\n",
      "426/426 [==============================] - 0s 723us/sample - loss: 0.4183 - val_loss: 0.3376\n",
      "Epoch 22/600\n",
      "426/426 [==============================] - 0s 990us/sample - loss: 0.4062 - val_loss: 0.3095\n",
      "Epoch 23/600\n",
      "426/426 [==============================] - 0s 802us/sample - loss: 0.3954 - val_loss: 0.2952\n",
      "Epoch 24/600\n",
      "426/426 [==============================] - 1s 2ms/sample - loss: 0.3880 - val_loss: 0.2787\n",
      "Epoch 25/600\n",
      "426/426 [==============================] - 0s 986us/sample - loss: 0.3405 - val_loss: 0.2644\n",
      "Epoch 26/600\n",
      "426/426 [==============================] - 0s 791us/sample - loss: 0.3490 - val_loss: 0.2484\n",
      "Epoch 27/600\n",
      "426/426 [==============================] - 0s 796us/sample - loss: 0.3281 - val_loss: 0.2313\n",
      "Epoch 28/600\n",
      "426/426 [==============================] - 0s 947us/sample - loss: 0.3239 - val_loss: 0.2250\n",
      "Epoch 29/600\n",
      "426/426 [==============================] - 0s 835us/sample - loss: 0.3528 - val_loss: 0.2209\n",
      "Epoch 30/600\n",
      "426/426 [==============================] - 0s 831us/sample - loss: 0.3276 - val_loss: 0.2198\n",
      "Epoch 31/600\n",
      "426/426 [==============================] - 0s 863us/sample - loss: 0.3065 - val_loss: 0.2076\n",
      "Epoch 32/600\n",
      "426/426 [==============================] - 0s 903us/sample - loss: 0.3093 - val_loss: 0.1994\n",
      "Epoch 33/600\n",
      "426/426 [==============================] - 0s 831us/sample - loss: 0.2786 - val_loss: 0.1961\n",
      "Epoch 34/600\n",
      "426/426 [==============================] - 0s 900us/sample - loss: 0.2751 - val_loss: 0.1832\n",
      "Epoch 35/600\n",
      "426/426 [==============================] - 0s 772us/sample - loss: 0.2678 - val_loss: 0.1773\n",
      "Epoch 36/600\n",
      "426/426 [==============================] - 0s 1ms/sample - loss: 0.2584 - val_loss: 0.1818\n",
      "Epoch 37/600\n",
      "426/426 [==============================] - 0s 840us/sample - loss: 0.2325 - val_loss: 0.1740\n",
      "Epoch 38/600\n",
      "426/426 [==============================] - 0s 715us/sample - loss: 0.2703 - val_loss: 0.1624\n",
      "Epoch 39/600\n",
      "426/426 [==============================] - 0s 962us/sample - loss: 0.2818 - val_loss: 0.1677\n",
      "Epoch 40/600\n",
      "426/426 [==============================] - 0s 931us/sample - loss: 0.2704 - val_loss: 0.1660\n",
      "Epoch 41/600\n",
      "426/426 [==============================] - 0s 792us/sample - loss: 0.2549 - val_loss: 0.1627\n",
      "Epoch 42/600\n",
      "426/426 [==============================] - 0s 1ms/sample - loss: 0.2770 - val_loss: 0.1610\n",
      "Epoch 43/600\n",
      "426/426 [==============================] - 0s 896us/sample - loss: 0.2366 - val_loss: 0.1553\n",
      "Epoch 44/600\n",
      "426/426 [==============================] - 0s 723us/sample - loss: 0.2423 - val_loss: 0.1522\n",
      "Epoch 45/600\n",
      "426/426 [==============================] - 0s 714us/sample - loss: 0.2375 - val_loss: 0.1466\n",
      "Epoch 46/600\n",
      "426/426 [==============================] - 0s 715us/sample - loss: 0.2150 - val_loss: 0.1466\n",
      "Epoch 47/600\n",
      "426/426 [==============================] - 0s 923us/sample - loss: 0.1945 - val_loss: 0.1426\n",
      "Epoch 48/600\n",
      "426/426 [==============================] - 0s 802us/sample - loss: 0.2411 - val_loss: 0.1396\n",
      "Epoch 49/600\n",
      "426/426 [==============================] - 0s 811us/sample - loss: 0.1955 - val_loss: 0.1427\n",
      "Epoch 50/600\n",
      "426/426 [==============================] - 1s 1ms/sample - loss: 0.2115 - val_loss: 0.1419\n",
      "Epoch 51/600\n",
      "426/426 [==============================] - 1s 2ms/sample - loss: 0.2052 - val_loss: 0.1377\n",
      "Epoch 52/600\n",
      "426/426 [==============================] - 1s 2ms/sample - loss: 0.1900 - val_loss: 0.1326\n",
      "Epoch 53/600\n",
      "426/426 [==============================] - 0s 694us/sample - loss: 0.2121 - val_loss: 0.1339\n",
      "Epoch 54/600\n",
      "426/426 [==============================] - 0s 671us/sample - loss: 0.1835 - val_loss: 0.1330\n",
      "Epoch 55/600\n",
      "426/426 [==============================] - 0s 701us/sample - loss: 0.1767 - val_loss: 0.1261\n",
      "Epoch 56/600\n",
      "426/426 [==============================] - 0s 677us/sample - loss: 0.1963 - val_loss: 0.1251\n",
      "Epoch 57/600\n",
      "426/426 [==============================] - 0s 735us/sample - loss: 0.2001 - val_loss: 0.1274\n",
      "Epoch 58/600\n",
      "426/426 [==============================] - 0s 738us/sample - loss: 0.1893 - val_loss: 0.1221\n",
      "Epoch 59/600\n",
      "426/426 [==============================] - 0s 867us/sample - loss: 0.1740 - val_loss: 0.1196\n",
      "Epoch 60/600\n",
      "426/426 [==============================] - 0s 851us/sample - loss: 0.1801 - val_loss: 0.1194\n",
      "Epoch 61/600\n",
      "426/426 [==============================] - 0s 933us/sample - loss: 0.1573 - val_loss: 0.1181\n",
      "Epoch 62/600\n",
      "426/426 [==============================] - 0s 863us/sample - loss: 0.1708 - val_loss: 0.1155\n",
      "Epoch 63/600\n",
      "426/426 [==============================] - 0s 931us/sample - loss: 0.1411 - val_loss: 0.1212\n",
      "Epoch 64/600\n",
      "426/426 [==============================] - 1s 2ms/sample - loss: 0.1829 - val_loss: 0.1138\n",
      "Epoch 65/600\n",
      "426/426 [==============================] - 0s 1ms/sample - loss: 0.1523 - val_loss: 0.1121\n",
      "Epoch 66/600\n",
      "426/426 [==============================] - 0s 912us/sample - loss: 0.1680 - val_loss: 0.1227\n",
      "Epoch 67/600\n",
      "426/426 [==============================] - 0s 830us/sample - loss: 0.1733 - val_loss: 0.1130\n",
      "Epoch 68/600\n",
      "426/426 [==============================] - 0s 793us/sample - loss: 0.1617 - val_loss: 0.1133\n",
      "Epoch 69/600\n",
      "426/426 [==============================] - 0s 913us/sample - loss: 0.1520 - val_loss: 0.1104\n",
      "Epoch 70/600\n",
      "426/426 [==============================] - 0s 827us/sample - loss: 0.1391 - val_loss: 0.1124\n",
      "Epoch 71/600\n",
      "426/426 [==============================] - 0s 874us/sample - loss: 0.1361 - val_loss: 0.1118\n",
      "Epoch 72/600\n",
      "426/426 [==============================] - 0s 883us/sample - loss: 0.1481 - val_loss: 0.1072\n",
      "Epoch 73/600\n",
      "426/426 [==============================] - 0s 771us/sample - loss: 0.1389 - val_loss: 0.1081\n",
      "Epoch 74/600\n",
      "426/426 [==============================] - 0s 694us/sample - loss: 0.1503 - val_loss: 0.1134\n",
      "Epoch 75/600\n",
      "426/426 [==============================] - 0s 678us/sample - loss: 0.1387 - val_loss: 0.1124\n",
      "Epoch 76/600\n",
      "426/426 [==============================] - 0s 993us/sample - loss: 0.1376 - val_loss: 0.1065\n",
      "Epoch 77/600\n",
      "426/426 [==============================] - 0s 699us/sample - loss: 0.1386 - val_loss: 0.1290\n",
      "Epoch 78/600\n"
     ]
    },
    {
     "name": "stdout",
     "output_type": "stream",
     "text": [
      "426/426 [==============================] - 0s 772us/sample - loss: 0.1501 - val_loss: 0.1100\n",
      "Epoch 79/600\n",
      "426/426 [==============================] - 1s 2ms/sample - loss: 0.1366 - val_loss: 0.1095\n",
      "Epoch 80/600\n",
      "426/426 [==============================] - 0s 830us/sample - loss: 0.1424 - val_loss: 0.1058\n",
      "Epoch 81/600\n",
      "426/426 [==============================] - 0s 787us/sample - loss: 0.1196 - val_loss: 0.1050\n",
      "Epoch 82/600\n",
      "426/426 [==============================] - 0s 837us/sample - loss: 0.1360 - val_loss: 0.1160\n",
      "Epoch 83/600\n",
      "426/426 [==============================] - 0s 715us/sample - loss: 0.1504 - val_loss: 0.1045\n",
      "Epoch 84/600\n",
      "426/426 [==============================] - 0s 719us/sample - loss: 0.1305 - val_loss: 0.1078\n",
      "Epoch 85/600\n",
      "426/426 [==============================] - 0s 815us/sample - loss: 0.1346 - val_loss: 0.1068\n",
      "Epoch 86/600\n",
      "426/426 [==============================] - 0s 812us/sample - loss: 0.1489 - val_loss: 0.1024\n",
      "Epoch 87/600\n",
      "426/426 [==============================] - 0s 711us/sample - loss: 0.1275 - val_loss: 0.1141\n",
      "Epoch 88/600\n",
      "426/426 [==============================] - 0s 1ms/sample - loss: 0.1310 - val_loss: 0.1063\n",
      "Epoch 89/600\n",
      "426/426 [==============================] - 0s 959us/sample - loss: 0.1251 - val_loss: 0.1037\n",
      "Epoch 90/600\n",
      "426/426 [==============================] - 0s 793us/sample - loss: 0.1244 - val_loss: 0.1032\n",
      "Epoch 91/600\n",
      "426/426 [==============================] - 1s 1ms/sample - loss: 0.1317 - val_loss: 0.1035\n",
      "Epoch 92/600\n",
      "426/426 [==============================] - 0s 852us/sample - loss: 0.1190 - val_loss: 0.1072\n",
      "Epoch 93/600\n",
      "426/426 [==============================] - 0s 1ms/sample - loss: 0.1121 - val_loss: 0.0989\n",
      "Epoch 94/600\n",
      "426/426 [==============================] - 0s 1ms/sample - loss: 0.1487 - val_loss: 0.1004\n",
      "Epoch 95/600\n",
      "426/426 [==============================] - 0s 783us/sample - loss: 0.1373 - val_loss: 0.1051\n",
      "Epoch 96/600\n",
      "426/426 [==============================] - 0s 831us/sample - loss: 0.1238 - val_loss: 0.1001\n",
      "Epoch 97/600\n",
      "426/426 [==============================] - 0s 785us/sample - loss: 0.1419 - val_loss: 0.1064\n",
      "Epoch 98/600\n",
      "426/426 [==============================] - 0s 818us/sample - loss: 0.0987 - val_loss: 0.0996\n",
      "Epoch 99/600\n",
      "426/426 [==============================] - 0s 789us/sample - loss: 0.1032 - val_loss: 0.0993\n",
      "Epoch 100/600\n",
      "426/426 [==============================] - 0s 704us/sample - loss: 0.1273 - val_loss: 0.0975\n",
      "Epoch 101/600\n",
      "426/426 [==============================] - 0s 821us/sample - loss: 0.1436 - val_loss: 0.1022\n",
      "Epoch 102/600\n",
      "426/426 [==============================] - 0s 965us/sample - loss: 0.1110 - val_loss: 0.1049\n",
      "Epoch 103/600\n",
      "426/426 [==============================] - 0s 684us/sample - loss: 0.1357 - val_loss: 0.0987\n",
      "Epoch 104/600\n",
      "426/426 [==============================] - 0s 877us/sample - loss: 0.1245 - val_loss: 0.0979\n",
      "Epoch 105/600\n",
      "426/426 [==============================] - 0s 838us/sample - loss: 0.1021 - val_loss: 0.1076\n",
      "Epoch 106/600\n",
      "426/426 [==============================] - 1s 3ms/sample - loss: 0.1131 - val_loss: 0.1095\n",
      "Epoch 107/600\n",
      "426/426 [==============================] - 0s 770us/sample - loss: 0.1116 - val_loss: 0.1002\n",
      "Epoch 108/600\n",
      "426/426 [==============================] - 0s 748us/sample - loss: 0.1236 - val_loss: 0.0953\n",
      "Epoch 109/600\n",
      "426/426 [==============================] - 0s 849us/sample - loss: 0.1211 - val_loss: 0.1045\n",
      "Epoch 110/600\n",
      "426/426 [==============================] - 0s 715us/sample - loss: 0.0976 - val_loss: 0.1027\n",
      "Epoch 111/600\n",
      "426/426 [==============================] - 0s 931us/sample - loss: 0.1283 - val_loss: 0.1014\n",
      "Epoch 112/600\n",
      "426/426 [==============================] - 0s 679us/sample - loss: 0.1239 - val_loss: 0.0962\n",
      "Epoch 113/600\n",
      "426/426 [==============================] - 0s 849us/sample - loss: 0.1086 - val_loss: 0.1005\n",
      "Epoch 114/600\n",
      "426/426 [==============================] - 0s 849us/sample - loss: 0.1240 - val_loss: 0.0988\n",
      "Epoch 115/600\n",
      "426/426 [==============================] - 0s 1ms/sample - loss: 0.1189 - val_loss: 0.0975\n",
      "Epoch 116/600\n",
      "426/426 [==============================] - 0s 987us/sample - loss: 0.1116 - val_loss: 0.0948\n",
      "Epoch 117/600\n",
      "426/426 [==============================] - 0s 763us/sample - loss: 0.1106 - val_loss: 0.0958\n",
      "Epoch 118/600\n",
      "426/426 [==============================] - 0s 664us/sample - loss: 0.0835 - val_loss: 0.0985\n",
      "Epoch 119/600\n",
      "426/426 [==============================] - 0s 954us/sample - loss: 0.1236 - val_loss: 0.1080\n",
      "Epoch 120/600\n",
      "426/426 [==============================] - 0s 729us/sample - loss: 0.1012 - val_loss: 0.1009\n",
      "Epoch 121/600\n",
      "426/426 [==============================] - 0s 771us/sample - loss: 0.1052 - val_loss: 0.1076\n",
      "Epoch 122/600\n",
      "426/426 [==============================] - 1s 2ms/sample - loss: 0.1050 - val_loss: 0.1047\n",
      "Epoch 123/600\n",
      "426/426 [==============================] - 0s 841us/sample - loss: 0.0901 - val_loss: 0.0991\n",
      "Epoch 124/600\n",
      "426/426 [==============================] - 0s 798us/sample - loss: 0.1153 - val_loss: 0.1012\n",
      "Epoch 125/600\n",
      "426/426 [==============================] - 0s 988us/sample - loss: 0.1128 - val_loss: 0.1088\n",
      "Epoch 126/600\n",
      "426/426 [==============================] - 0s 744us/sample - loss: 0.1201 - val_loss: 0.0975\n",
      "Epoch 127/600\n",
      "426/426 [==============================] - 0s 755us/sample - loss: 0.1204 - val_loss: 0.0964\n",
      "Epoch 128/600\n",
      "426/426 [==============================] - 0s 783us/sample - loss: 0.0994 - val_loss: 0.1055\n",
      "Epoch 129/600\n",
      "426/426 [==============================] - 0s 746us/sample - loss: 0.1029 - val_loss: 0.1118\n",
      "Epoch 130/600\n",
      "426/426 [==============================] - 0s 931us/sample - loss: 0.1104 - val_loss: 0.0999\n",
      "Epoch 131/600\n",
      "426/426 [==============================] - 0s 661us/sample - loss: 0.0906 - val_loss: 0.0987\n",
      "Epoch 132/600\n",
      "426/426 [==============================] - 0s 614us/sample - loss: 0.0899 - val_loss: 0.1172\n",
      "Epoch 133/600\n",
      "426/426 [==============================] - 0s 689us/sample - loss: 0.1078 - val_loss: 0.1108\n",
      "Epoch 134/600\n",
      "426/426 [==============================] - 0s 964us/sample - loss: 0.1083 - val_loss: 0.0974\n",
      "Epoch 135/600\n",
      "426/426 [==============================] - 0s 862us/sample - loss: 0.1271 - val_loss: 0.0997\n",
      "Epoch 136/600\n",
      "426/426 [==============================] - 0s 829us/sample - loss: 0.1133 - val_loss: 0.1032\n",
      "Epoch 137/600\n",
      "426/426 [==============================] - 1s 2ms/sample - loss: 0.0927 - val_loss: 0.0974\n",
      "Epoch 138/600\n",
      "426/426 [==============================] - 0s 1ms/sample - loss: 0.0922 - val_loss: 0.0993\n",
      "Epoch 139/600\n",
      "426/426 [==============================] - 0s 961us/sample - loss: 0.1253 - val_loss: 0.1016\n",
      "Epoch 140/600\n",
      "426/426 [==============================] - 1s 1ms/sample - loss: 0.1072 - val_loss: 0.1258\n",
      "Epoch 141/600\n",
      "426/426 [==============================] - 0s 981us/sample - loss: 0.0960 - val_loss: 0.1000\n",
      "Epoch 00141: early stopping\n"
     ]
    },
    {
     "data": {
      "text/plain": [
       "<tensorflow.python.keras.callbacks.History at 0x1f666ef3f08>"
      ]
     },
     "execution_count": 17,
     "metadata": {},
     "output_type": "execute_result"
    }
   ],
   "source": [
    "model.fit(x=X_train, y=y_train, epochs=600, validation_data=(X_test,y_test), verbose=1, callbacks=[early_stop, board])"
   ]
  },
  {
   "cell_type": "markdown",
   "metadata": {},
   "source": [
    "### Running Tensorboard\n",
    "\n",
    "#### Running through the Command Line\n",
    "\n",
    "* Tensorboard will run locally in your browser at (http://localhost:6006/)"
   ]
  },
  {
   "cell_type": "code",
   "execution_count": 18,
   "metadata": {},
   "outputs": [
    {
     "name": "stdout",
     "output_type": "stream",
     "text": [
      "logs\\fit\n"
     ]
    }
   ],
   "source": [
    "print(log_directory)"
   ]
  },
  {
   "cell_type": "code",
   "execution_count": 19,
   "metadata": {},
   "outputs": [
    {
     "data": {
      "text/plain": [
       "'C:\\\\Users\\\\tvnsk\\\\Downloads\\\\FINAL-TF2-FILES\\\\My_Codes\\\\05-Tensorboard'"
      ]
     },
     "execution_count": 19,
     "metadata": {},
     "output_type": "execute_result"
    }
   ],
   "source": [
    "pwd"
   ]
  },
  {
   "cell_type": "markdown",
   "metadata": {},
   "source": [
    "##### `Use cd at the command line to change directory to the file path reported back by pwd or your current .py file location`\n",
    "\n",
    "##### Then run this code at the command line"
   ]
  },
  {
   "cell_type": "code",
   "execution_count": null,
   "metadata": {},
   "outputs": [],
   "source": [
    "tensorboard --logdir logs\\fit"
   ]
  }
 ],
 "metadata": {
  "kernelspec": {
   "display_name": "Python 3",
   "language": "python",
   "name": "python3"
  },
  "language_info": {
   "codemirror_mode": {
    "name": "ipython",
    "version": 3
   },
   "file_extension": ".py",
   "mimetype": "text/x-python",
   "name": "python",
   "nbconvert_exporter": "python",
   "pygments_lexer": "ipython3",
   "version": "3.7.6"
  }
 },
 "nbformat": 4,
 "nbformat_minor": 4
}
